{
 "cells": [
  {
   "cell_type": "code",
   "execution_count": 1,
   "id": "16bc8a4e",
   "metadata": {},
   "outputs": [
    {
     "ename": "IndentationError",
     "evalue": "expected an indented block (<ipython-input-1-e342560e5e1e>, line 64)",
     "output_type": "error",
     "traceback": [
      "\u001b[0;36m  File \u001b[0;32m\"<ipython-input-1-e342560e5e1e>\"\u001b[0;36m, line \u001b[0;32m64\u001b[0m\n\u001b[0;31m    print(key)\u001b[0m\n\u001b[0m    ^\u001b[0m\n\u001b[0;31mIndentationError\u001b[0m\u001b[0;31m:\u001b[0m expected an indented block\n"
     ]
    }
   ],
   "source": [
    "class Node:\n",
    "    def __init__(self, e, n, p):\n",
    "        self.element = e\n",
    "        self.next = n\n",
    "        self.prev = p\n",
    "\n",
    "class DoublyList:\n",
    "  \n",
    "    def __init__(self, a):\n",
    "        \n",
    "        self.head = None\n",
    "        if type(a) == list:\n",
    "            self.head = Node(None, None, None)\n",
    "            head = self.head\n",
    "            for i in range(len(a)):\n",
    "                node = Node(a[i], None, None)\n",
    "                head.next = node\n",
    "                node.prev = head\n",
    "                head = node\n",
    "            head.next = self.head\n",
    "            self.head.prev = head\n",
    "            \n",
    "    def forwardprint(self):\n",
    "        head = self.head\n",
    "        head = head.next\n",
    "        while head.element != None:\n",
    "            if head.next.element == None:\n",
    "                print(str(head.element) + '.')\n",
    "            else:\n",
    "                print(head.element, end = ', ')\n",
    "            head = head.next\n",
    "            \n",
    "    def countNode(self):\n",
    "        count = 0\n",
    "        head = self.head.next\n",
    "        while head.element != None:\n",
    "            head = head.next\n",
    "            count += 1\n",
    "        \n",
    "        return count\n",
    "    \n",
    "    def nodeAt(self, idx):\n",
    "        i = 0\n",
    "        head = self.head.next\n",
    "        if idx > self.countNode()-1:\n",
    "            print('Index error')\n",
    "        else:\n",
    "            while i != idx:\n",
    "                head = head.next\n",
    "                i += 1\n",
    "        return head\n",
    "        \n",
    "        \n",
    "    def insertion_sort(self):\n",
    "        \n",
    "        for step in range(1, self.countNode()):\n",
    "            key = (self.nodeAt(step)).element\n",
    "            j = step - 1\n",
    "            \n",
    "            while j >= 0 and key < (self.nodeAt(j)).element:\n",
    "            print(key)\n",
    "        \n",
    "\n",
    "        \n",
    "a1 = [1, 3, 4, 7, 2, 6, 5]\n",
    "print('Original Array:', end= ' ')\n",
    "doubly_link = DoublyList(a1)\n",
    "doubly_link.forwardprint()\n",
    "doubly_link.insertion_sort()"
   ]
  },
  {
   "cell_type": "code",
   "execution_count": 43,
   "id": "4f541339",
   "metadata": {},
   "outputs": [
    {
     "name": "stdout",
     "output_type": "stream",
     "text": [
      "Sorted Array in Ascending Order:\n",
      "[1, 2, 3, 4, 5, 6, 7, 8, 9, 10]\n"
     ]
    }
   ],
   "source": [
    "def insertionSort(array):\n",
    "\n",
    "    for step in range(1, len(array)):\n",
    "        key = array[step]\n",
    "        j = step - 1\n",
    "        \n",
    "        while j >= 0 and key < array[j]:\n",
    "            array[j + 1] = array[j]\n",
    "            j = j - 1\n",
    "        \n",
    "        array[j + 1] = key\n",
    "\n",
    "\n",
    "data = [3, 5, 2, 1, 4, 6, 7, 9, 8, 10]\n",
    "insertionSort(data)\n",
    "print('Sorted Array in Ascending Order:')\n",
    "print(data)"
   ]
  },
  {
   "cell_type": "code",
   "execution_count": 42,
   "id": "4e63c81d",
   "metadata": {},
   "outputs": [
    {
     "name": "stdout",
     "output_type": "stream",
     "text": [
      "[1, 2, 3, 4, 5, 6, 7, 8, 9, 10]\n"
     ]
    }
   ],
   "source": [
    "## Task - 01\n",
    "##Sort an array RECURSIVELY using the selection sort algorithm.\n",
    "\n",
    "def selection_sort(array, i, j = 0):\n",
    "    if j < len(array):\n",
    "        if array[i] < array[j]:\n",
    "            array[i], array[j] = array[j], array[i]\n",
    "        selection_sort(array, i , j+1)\n",
    "\n",
    "    \n",
    "\n",
    "def selection_sort_recursive(array, i = 0):\n",
    "    \n",
    "    if i < len(array):\n",
    "        selection_sort(array, i)\n",
    "        selection_sort_recursive(array, i+1)\n",
    "    \n",
    "\n",
    "        \n",
    "array = [3, 5, 2, 1, 4, 6, 7, 9, 8, 10]\n",
    "selection_sort_recursive(array)\n",
    "print(array)\n"
   ]
  },
  {
   "cell_type": "code",
   "execution_count": 36,
   "id": "1281bc32",
   "metadata": {},
   "outputs": [
    {
     "name": "stdout",
     "output_type": "stream",
     "text": [
      "1\n",
      "10\n",
      "2\n",
      "3\n",
      "5\n"
     ]
    }
   ],
   "source": [
    "### Implement binary search algorithm RECURSIVELY.\n",
    "\n",
    "class Leaf:\n",
    "    \n",
    "    def __init__(self, value, left = None, right = None):\n",
    "        \n",
    "        self.value = value\n",
    "        self.left = left\n",
    "        self.right = right\n",
    "        \n",
    "        \n",
    "class Binary_search_tree:\n",
    "    \n",
    "    def __init__(self, array):\n",
    "        i = 0\n",
    "        self.root = None\n",
    "        current_leaf = self.root\n",
    "        while i < len(array):\n",
    "            new_leaf = Leaf(array[i])\n",
    "            if current_leaf == None:\n",
    "                self.root = new_leaf\n",
    "                current_leaf = new_leaf\n",
    "            elif new_leaf.value < current_leaf.value:\n",
    "                current_leaf.left = new_leaf\n",
    "                current_leaf = new_leaf\n",
    "            else:\n",
    "                current_leaf.right = new_leaf\n",
    "                currernt_leaf = new_leaf\n",
    "                \n",
    "            i = i + 1\n",
    "                \n",
    "    def print_in_order(self, leaf):\n",
    "\n",
    "            \n",
    "        if leaf != None:\n",
    "            self.print_in_order(leaf.left)\n",
    "            print(leaf.value)\n",
    "            self.print_in_order(leaf.right)\n",
    " \n",
    "            \n",
    "            \n",
    "array = [3, 5, 2, 1, 4, 6, 7, 9, 8, 10]\n",
    "\n",
    "bst_1 = Binary_search_tree(array)\n",
    "bst_1.print_in_order(bst_1.root)\n"
   ]
  }
 ],
 "metadata": {
  "kernelspec": {
   "display_name": "Python 3",
   "language": "python",
   "name": "python3"
  },
  "language_info": {
   "codemirror_mode": {
    "name": "ipython",
    "version": 3
   },
   "file_extension": ".py",
   "mimetype": "text/x-python",
   "name": "python",
   "nbconvert_exporter": "python",
   "pygments_lexer": "ipython3",
   "version": "3.8.8"
  }
 },
 "nbformat": 4,
 "nbformat_minor": 5
}
