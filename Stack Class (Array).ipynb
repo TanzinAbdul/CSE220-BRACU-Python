{
 "cells": [
  {
   "cell_type": "code",
   "execution_count": 1,
   "id": "94a4fd3e",
   "metadata": {},
   "outputs": [
    {
     "name": "stdout",
     "output_type": "stream",
     "text": [
      "Enter your expression: 1+2*(3/4)\n",
      "This expression is correct\n"
     ]
    }
   ],
   "source": [
    "class Array_Stack:\n",
    "    \n",
    "    def __init__(self):\n",
    "        self.array = [0]*1000\n",
    "\n",
    "        self.ind = -1\n",
    "        \n",
    "    def push(self, element):\n",
    "        if self.ind > len(self.array):\n",
    "            print('Invalid')\n",
    "        else:\n",
    "            self.ind += 1\n",
    "            self.array[self.ind] = element\n",
    "        \n",
    "    def peek(self):\n",
    "        if self.ind < 0:\n",
    "            return 'Invalid'\n",
    "        else:\n",
    "            return self.array[self.ind]\n",
    "    \n",
    "    def pop(self):\n",
    "        if self.ind < 0:\n",
    "            return 'Invalid'\n",
    "        else:\n",
    "            self.array[self.ind] = 0\n",
    "            self.ind -= 1\n",
    "    \n",
    "\n",
    "def Parenthesis_Balancing(expression):\n",
    "    paren_dic = {'[':']', '(':')', '{':'}'}\n",
    "    idx = 1\n",
    "    paren_stack = Array_Stack()\n",
    "    output = 'This expression is correct'\n",
    "    for elem in expression:\n",
    "        \n",
    "        if elem in paren_dic:\n",
    "            paren_stack.push(elem)\n",
    "        elif elem in paren_dic.values():\n",
    "            if paren_stack.peek() == 'Invalid':\n",
    "                output = ('This expression is NOT correct.\\nError at character #' +str(idx)+ '.'+ \"'\"+elem+\"'\"+ '- not opened')\n",
    "                break\n",
    "            elif paren_dic[paren_stack.peek()] == elem: \n",
    "                paren_stack.pop()\n",
    "            else:\n",
    "                char_num = 1\n",
    "                for char in expression:\n",
    "                    if paren_stack.peek() == char:\n",
    "                        break\n",
    "                    char_num += 1\n",
    "                        \n",
    "                output = ('This expression is Not correct.\\nError at character #' +str(char_num)+ '.'+ \"'\"+paren_stack.peek()+\"'\"+ '- not closed')\n",
    "                break\n",
    "        \n",
    "        idx += 1\n",
    "    \n",
    "    print(output)   \n",
    "    \n",
    "    \n",
    "expression = input('Enter your expression: ')\n",
    "Parenthesis_Balancing(expression)    \n",
    "    \n"
   ]
  }
 ],
 "metadata": {
  "kernelspec": {
   "display_name": "Python 3",
   "language": "python",
   "name": "python3"
  },
  "language_info": {
   "codemirror_mode": {
    "name": "ipython",
    "version": 3
   },
   "file_extension": ".py",
   "mimetype": "text/x-python",
   "name": "python",
   "nbconvert_exporter": "python",
   "pygments_lexer": "ipython3",
   "version": "3.8.8"
  }
 },
 "nbformat": 4,
 "nbformat_minor": 5
}
