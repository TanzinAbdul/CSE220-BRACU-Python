{
 "cells": [
  {
   "cell_type": "markdown",
   "id": "22c84ad7",
   "metadata": {},
   "source": [
    "### Task -1\n",
    "\n",
    " Shift Left k Cells   \n",
    "Consider an array named source. Write a method/function named shiftLeft( source, k) that shifts all the elements of the source array to the left by 'k' positions. You must execute the method by passing an array and number of cells to be shifted. After calling the method, print the array to show whether the elements have been shifted properly.\n",
    "Example:\n",
    "source=[10,20,30,40,50,60]\n",
    "shiftLeft(source,3)\n",
    "After calling shiftLeft(source,3), printing the array should give the output as: \n",
    " [ 40, 50, 60, 0, 0, 0 ]\n"
   ]
  },
  {
   "cell_type": "code",
   "execution_count": 9,
   "id": "b19aa871",
   "metadata": {},
   "outputs": [
    {
     "name": "stdout",
     "output_type": "stream",
     "text": [
      "[40, 50, 60, 0, 0, 0]\n"
     ]
    }
   ],
   "source": [
    "def shiftLeft(source, k):\n",
    "    for j in range(k):\n",
    "        i = 0\n",
    "        while i != len(source)-1:\n",
    "            source[i] = source[i+1]\n",
    "            i += 1\n",
    "        source[len(source)-1] = 0\n",
    "    print(source)\n",
    "    \n",
    "source=[10,20,30,40,50,60]          \n",
    "shiftLeft(source, 3)"
   ]
  },
  {
   "cell_type": "markdown",
   "id": "b29a83c5",
   "metadata": {},
   "source": [
    "### Task - 2\n",
    "Rotate Left k cells \n",
    " Consider an array named source. Write a method/function named rotateLeft( source, k) that rotates all the elements of the source array to the left by 'k' positions. You must execute the method by passing an array and number of cells to be shifted. After calling the method, print the array to show whether the elements have been shifted properly.\n",
    "Example:\n",
    "source=[10,20,30,40,50,60]\n",
    "rotateLeft(source,3)\n",
    "After calling rotateLeft(source,3), printing the array should give the output as: \n",
    " [ 40, 50, 60, 10, 20, 30]\n"
   ]
  },
  {
   "cell_type": "code",
   "execution_count": 10,
   "id": "a14b9dac",
   "metadata": {},
   "outputs": [
    {
     "name": "stdout",
     "output_type": "stream",
     "text": [
      "[40, 50, 60, 10, 20, 30]\n"
     ]
    }
   ],
   "source": [
    "def rotateLeft(source, k):\n",
    "    for j in range(k):\n",
    "        i = 0\n",
    "        x = source[0]\n",
    "        while i != len(source)-1:\n",
    "            source[i] = source[i+1]\n",
    "            i += 1\n",
    "        source[len(source)-1] = x\n",
    "    print(source)\n",
    "    \n",
    "source=[10,20,30,40,50,60]          \n",
    "rotateLeft(source, 3)"
   ]
  },
  {
   "cell_type": "markdown",
   "id": "85b0c0b6",
   "metadata": {},
   "source": [
    "### Task - 3 \n",
    "Shift Right k Cells   \n",
    "Consider an array named source. Write a method/function named shifRight( source, k) that shifts all the elements of the source array to the right by 'k' positions. You must execute the method by passing an array and number of cells to be shifted. After calling the method, print the array to show whether the elements have been shifted properly.\n",
    "Example:\n",
    "source=[10,20,30,40,50,60]\n",
    "shiftRight(source,3)\n",
    "After calling shiftRight(source,3), printing the array should give the output as: \n",
    " [ 0,0,0,10,20,30 ]\n"
   ]
  },
  {
   "cell_type": "code",
   "execution_count": 20,
   "id": "dabccda3",
   "metadata": {},
   "outputs": [
    {
     "name": "stdout",
     "output_type": "stream",
     "text": [
      "[0, 0, 0, 10, 20, 30]\n"
     ]
    }
   ],
   "source": [
    "def shiftRight(source, k):\n",
    "    for j in range(k):\n",
    "        i = len(source)-1\n",
    "        while i >= 0:\n",
    "            source[i] = source[i-1]\n",
    "            i -= 1\n",
    "        source[0] = 0\n",
    "    print(source)\n",
    "    \n",
    "source=[10,20,30,40,50,60]          \n",
    "shiftRight(source, 3)"
   ]
  },
  {
   "cell_type": "markdown",
   "id": "7e7e2686",
   "metadata": {},
   "source": [
    "### Task - 4\n",
    "Rotate Right k cells \n",
    " Consider an array named source. Write a method/function named rotateRight( source, k) that rotates all the elements of the source array to the right by 'k' positions. You must execute the method by passing an array and number of cells to be shifted. After calling the method, print the array to show whether the elements have been shifted properly.\n",
    "Example:\n",
    "source=[10,20,30,40,50,60]\n",
    "rotateRight(source,3)\n",
    "After calling rotateRight(source,3), printing the array should give the output as: \n",
    " [ 40, 50, 60, 10, 20, 30]\n"
   ]
  },
  {
   "cell_type": "code",
   "execution_count": 23,
   "id": "9476cdcf",
   "metadata": {},
   "outputs": [
    {
     "name": "stdout",
     "output_type": "stream",
     "text": [
      "[40, 50, 60, 10, 20, 30]\n"
     ]
    }
   ],
   "source": [
    "def rotateRight(source, k):\n",
    "    for j in range(k):\n",
    "        x = source[len(source)-1]\n",
    "        i = len(source)-1\n",
    "        while i >= 0:\n",
    "            source[i] = source[i-1]\n",
    "            i -= 1\n",
    "        source[0] = x\n",
    "    print(source)\n",
    "source=[10,20,30,40,50,60]          \n",
    "rotateRight(source, 3)"
   ]
  },
  {
   "cell_type": "markdown",
   "id": "efef3a3e",
   "metadata": {},
   "source": [
    "### Task - 5\n",
    "Remove an element from an array\n",
    " Consider an array named source. Write a method/function named remove( source, size, idx) that removes the element in index idx of the source array. You must execute the method by passing an array, its size and the idx( that is the index of the element to be removed). After calling the method, print the array to show whether the element of that particular index has been removed properly.\n",
    "Example:\n",
    "source=[10,20,30,40,50,0,0]\n",
    "remove(source,5,2)\n",
    "After calling remove(source,5,2) , printing the array should give the output as: \n",
    " [ 10,20,40,50,0,0,0]\n"
   ]
  },
  {
   "cell_type": "code",
   "execution_count": 9,
   "id": "46dca38f",
   "metadata": {},
   "outputs": [
    {
     "name": "stdout",
     "output_type": "stream",
     "text": [
      "[10, 20, 40, 50, 0, 0, 0]\n"
     ]
    }
   ],
   "source": [
    "def remove(source, size, idx):\n",
    "    if idx > size -1:\n",
    "        print('Invalid Index')\n",
    "    else:\n",
    "        while idx < size-1:\n",
    "            source[idx] = source[idx+1]\n",
    "            idx += 1\n",
    "        source[size-1] = 0\n",
    "        print(source)\n",
    "    \n",
    "source=[10,20,30,40,50,0,0]    \n",
    "remove(source,5,2)   "
   ]
  },
  {
   "cell_type": "markdown",
   "id": "f20f2a01",
   "metadata": {},
   "source": [
    "### Task - 6 \n",
    "Remove all occurrences of a particular element from an array\n",
    "Consider an array named source. Write a method/function named removeAll( source, size, element) that removes all the occurrences of the given element in the source array. You must execute the method by passing an array, its size and the element to be removed. After calling the method, print the array to show whether all the occurrences of the element have been removed properly.\n",
    "Example:\n",
    "source=[10,2,30,2,50,2,2,0,0]\n",
    "removeAll(source,7,2)\n",
    "After calling removeAll(source,7,2), all the occurrences of 2 must be removed. Printing the array afterwards should give the output as: \n",
    " [ 10,30,50,0,0,0,0,0,0]\n"
   ]
  },
  {
   "cell_type": "code",
   "execution_count": 12,
   "id": "782c49bc",
   "metadata": {},
   "outputs": [
    {
     "name": "stdout",
     "output_type": "stream",
     "text": [
      "[10, 30, 50, 0, 0, 0, 0, 0, 0]\n"
     ]
    }
   ],
   "source": [
    "def removeAll( source, size, element):\n",
    "    if element not in source:\n",
    "        print('Element not found in source.')\n",
    "    else:\n",
    "        i = 0\n",
    "        while i < size-1:\n",
    "            if source[i] == element:\n",
    "                j = i\n",
    "                while j < size-1:\n",
    "                    source[j] = source[j+1]\n",
    "                    source[size-1] = 0\n",
    "                    j += 1\n",
    "            i += 1\n",
    "        print(source)\n",
    "source=[10,2,30,2,50,2,2,0,0]\n",
    "removeAll(source,7,2)"
   ]
  },
  {
   "cell_type": "markdown",
   "id": "d0034539",
   "metadata": {},
   "source": [
    "### Task - 7\n",
    "Splitting an Array\n",
    "\n",
    "Suppose the elements of an array A containing positive integers, denote the weights in kilograms. And we have a beam balance. We want to put the weights on both pans of the balance in such a way that for some index 0 < i < A.length - 1, all values starting from A[0], A[1], upto A[ i - 1], should be on the left pan. And all values starting from A[ i ] upto A[ A.length - 1] should be on the right pan and the left and right pan should be balanced. If such an i exists, return true . Else, return false. \n",
    "Input: [1, 1, 1, 2, 1]\tOutput : true\n",
    "Explanation: (summation of [1, 1, 1] = summation of [2,1])\n",
    "Input: [2, 1, 1, 2, 1] Output: false\n",
    "Input: [10, 3, 1, 2, 10]  Output: true \n",
    "Explanation: (summation of [10, 3] = summation of [1,2,10]))\n"
   ]
  },
  {
   "cell_type": "code",
   "execution_count": 17,
   "id": "11bb4372",
   "metadata": {},
   "outputs": [
    {
     "name": "stdout",
     "output_type": "stream",
     "text": [
      "Enter your array: [2, 1, 1, 2, 1]\n",
      "False\n"
     ]
    }
   ],
   "source": [
    "def balance(source):\n",
    "    i = 0\n",
    "    while i < len(source)-1:\n",
    "        sum1 = 0\n",
    "        sum2 = 0\n",
    "        for k in range(i):\n",
    "            sum1 += source[k]\n",
    "        for j in range(i, len(source)):\n",
    "            sum2 += source[j]\n",
    "        if sum1 == sum2:\n",
    "            print(True)\n",
    "            break\n",
    "        i += 1\n",
    "    if sum1 != sum2:\n",
    "        print(False)\n",
    "        \n",
    "user_input = (input('Enter your array: ').strip('[]')).split(', ')\n",
    "user_array = [int(elem) for elem in user_input]\n",
    "balance(user_array)"
   ]
  },
  {
   "cell_type": "markdown",
   "id": "610626b6",
   "metadata": {},
   "source": [
    "### Task - 8\n",
    "Array series\n",
    "Write a method that takes an integer value n as a parameter. Inside the method, you should create an array of length n squared (n*n) and fill the array with the following pattern. Return the array at the end and print it.\n",
    "If,\n",
    "n=2: { 0,1,   2,1 } (spaces have been added to show two distinct groups).\n",
    "n=3 : { 0, 0, 1,    0, 2, 1,    3, 2, 1 } ((spaces have been added to show three distinct \n",
    "groups).\n",
    "n=4 : {0, 0, 0, 1,   0, 0, 2, 1,    0, 3, 2, 1,   4, 3, 2, 1}  (spaces have been added to show four distinct groups).\n"
   ]
  },
  {
   "cell_type": "code",
   "execution_count": 4,
   "id": "5d1f4e01",
   "metadata": {},
   "outputs": [
    {
     "name": "stdout",
     "output_type": "stream",
     "text": [
      "Enter the value of n: 4\n",
      "n=4 : {0, 0, 0, 1, 0, 0, 2, 1, 0, 3, 2, 1, 4, 3, 2, 1}\n"
     ]
    }
   ],
   "source": [
    "def series(n):\n",
    "    array = [0]*n\n",
    "    result = [0]*n*n\n",
    "    i = n-1\n",
    "    j = 1\n",
    "    start = n*n-n\n",
    "    end = n*n\n",
    "    for i in range(n-1, -1, -1):\n",
    "        array[i] = j\n",
    "        j += 1\n",
    "    l = 0\n",
    "    for i in range(n):\n",
    "        idx = 0\n",
    "        for j in range(start, end):\n",
    "            result[j] = array[idx]\n",
    "            idx += 1\n",
    "        array[l] = 0\n",
    "        l += 1\n",
    "        end = start\n",
    "        start -= n\n",
    "    print('n=' + str(n) + ' : {', end = '')    \n",
    "    for ind in range(len(result)):\n",
    "        if ind == len(result)-1:\n",
    "            print(result[ind], end ='')\n",
    "        else:\n",
    "            print(result[ind], end=', ')\n",
    "    print('}')\n",
    " \n",
    "user_num = int(input('Enter the value of n: '))\n",
    "series(user_num)"
   ]
  },
  {
   "cell_type": "markdown",
   "id": "85486b46",
   "metadata": {},
   "source": [
    "### Task - 9\n",
    "Max Bunch Count\n",
    "A \"bunch\" in an array is a consecutive chain of two or more adjacent elements of the same value. Write a method that returns the number of elements in the largest bunch found in the given array.<br>\n",
    "\n",
    "Input: [1, 2, 2, 3, 4, 4, 4]   Output: 3\n",
    "\n",
    "Explanation: There are two bunches here {2,2} and {4,4,4}. The largest bunch is {4,4,4} containing 3 elements so 3 is returned.<br>\n",
    "\n",
    "Input: [1,1,2, 2, 1, 1,1,1] Output:4<br>\n",
    "\n",
    " Explanation: There are three bunches here {1,1} and {2,2} and {1,1,1,1}. The largest bunch is {1,1,1,1} containing 4 elements so 4 is returned.\n"
   ]
  },
  {
   "cell_type": "code",
   "execution_count": 25,
   "id": "a9217a90",
   "metadata": {},
   "outputs": [
    {
     "name": "stdout",
     "output_type": "stream",
     "text": [
      "Enter your array: [1, 2, 2, 3, 4, 4, 4]\n",
      "3\n"
     ]
    }
   ],
   "source": [
    "def maxBunch(source):\n",
    "    bunch = 1\n",
    "    for ind in range(len(source)-1):\n",
    "        if source[ind] == source[ind+1]:\n",
    "            bunch += 1\n",
    "        else:\n",
    "            bunch = 1\n",
    "    return bunch\n",
    "\n",
    "user_input = (input('Enter your array: ').strip('[]')).split(', ')\n",
    "user_array = [int(elem) for elem in user_input]\n",
    "print(maxBunch(user_array))"
   ]
  },
  {
   "cell_type": "markdown",
   "id": "dfee0810",
   "metadata": {},
   "source": [
    "### Task - 10\n",
    "Repetition\n",
    " Write a method that takes in an array as a parameter and counts the repetition of each element. That is, if an element has appeared in the array more than once, then its ‘repetition’ is its number of occurrences. The method returns true if there are at least two elements with the same number of ‘repetition’. Otherwise, return false.<br>\n",
    "Input: {4,5,6,6,4,3,6,4} Output: True<br>\n",
    "\n",
    "Explanation: Two numbers repeat in this array: 4 and 6. 4 has a repetition of 3, 6 has a repetition of 3. Since two numbers have the same repetition output is True.<br>\n",
    "\n",
    "Input: {3,4,6,3,4,7,4,6,8,6,6} Output: False<br>\n",
    "\n",
    "Explanation: Three numbers repeat in this array:3,4 and 6 .3 has a repetition of 2, 4 has a repetition of 3, 6 has a repetition of 4. Since no two numbers have the same repetition output is False.<br>\n"
   ]
  },
  {
   "cell_type": "code",
   "execution_count": 22,
   "id": "5ab7e146",
   "metadata": {},
   "outputs": [
    {
     "name": "stdout",
     "output_type": "stream",
     "text": [
      "Enter your array: [3,4,6,3,4,7,4,6,8,6,6]\n",
      "False\n"
     ]
    }
   ],
   "source": [
    "def repetition(source):\n",
    "    rep_dict = {}\n",
    "    for num in source:\n",
    "        if num not in rep_dict:\n",
    "            rep_dict[num] = 1\n",
    "        else:\n",
    "            rep_dict[num] += 1\n",
    "    \n",
    "    for key1 in rep_dict.keys():\n",
    "        for key2 in rep_dict.keys():\n",
    "            if (key1 != key2) and (rep_dict[key1] == rep_dict[key2] and rep_dict[key1] != 1):\n",
    "                return True\n",
    "            else:\n",
    "                result = False\n",
    "    return result\n",
    "    \n",
    "user_input = (input('Enter your array: ').strip('[]')).split(',')\n",
    "user_array = [int(elem) for elem in user_input]  \n",
    "print(repetition(user_array))"
   ]
  }
 ],
 "metadata": {
  "kernelspec": {
   "display_name": "Python 3",
   "language": "python",
   "name": "python3"
  },
  "language_info": {
   "codemirror_mode": {
    "name": "ipython",
    "version": 3
   },
   "file_extension": ".py",
   "mimetype": "text/x-python",
   "name": "python",
   "nbconvert_exporter": "python",
   "pygments_lexer": "ipython3",
   "version": "3.8.8"
  }
 },
 "nbformat": 4,
 "nbformat_minor": 5
}
