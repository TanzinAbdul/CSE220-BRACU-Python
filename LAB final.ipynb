{
 "cells": [
  {
   "cell_type": "code",
   "execution_count": 75,
   "id": "bf4c0865",
   "metadata": {},
   "outputs": [
    {
     "name": "stdout",
     "output_type": "stream",
     "text": [
      "[1, 2, 3, 4, 5, 6]\n"
     ]
    }
   ],
   "source": [
    "\n",
    "def rev_ord(num, array, index = 0):\n",
    "\n",
    "    if num % 10 != 0:\n",
    "        array[index] = num%10\n",
    "        return rev_ord(num//10, array, index + 1)\n",
    "    else:\n",
    "        print(array)\n",
    "    \n",
    "\n",
    "    \n",
    "    \n",
    "dummy_array = [0]*6\n",
    "sample = 654321\n",
    "size = 6\n",
    "rev_ord(sample, dummy_array)"
   ]
  }
 ],
 "metadata": {
  "kernelspec": {
   "display_name": "Python 3",
   "language": "python",
   "name": "python3"
  },
  "language_info": {
   "codemirror_mode": {
    "name": "ipython",
    "version": 3
   },
   "file_extension": ".py",
   "mimetype": "text/x-python",
   "name": "python",
   "nbconvert_exporter": "python",
   "pygments_lexer": "ipython3",
   "version": "3.8.8"
  }
 },
 "nbformat": 4,
 "nbformat_minor": 5
}
