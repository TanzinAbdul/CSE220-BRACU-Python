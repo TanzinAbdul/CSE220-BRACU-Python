{
 "cells": [
  {
   "cell_type": "code",
   "execution_count": 48,
   "id": "ca744360",
   "metadata": {},
   "outputs": [
    {
     "name": "stdout",
     "output_type": "stream",
     "text": [
      "16 11 6 1 -4 1 6 11 16 \n",
      "   11 6 1 -4 1 6 11 \n",
      "      6 1 -4 1 6 \n",
      "         1 -4 1 \n",
      "            "
     ]
    }
   ],
   "source": [
    "def row(r):\n",
    "    if r >= 0:\n",
    "        print(r, end = ' ')\n",
    "        row(r-5)\n",
    "    print(r, end=' ')\n",
    "            \n",
    "def line(x, i=0):\n",
    "    print(' '*i, end='')\n",
    "    if x > 0:\n",
    "        row(x)\n",
    "        print()\n",
    "        line(x-5, i+3)\n",
    "        \n",
    "line(16)"
   ]
  }
 ],
 "metadata": {
  "kernelspec": {
   "display_name": "Python 3",
   "language": "python",
   "name": "python3"
  },
  "language_info": {
   "codemirror_mode": {
    "name": "ipython",
    "version": 3
   },
   "file_extension": ".py",
   "mimetype": "text/x-python",
   "name": "python",
   "nbconvert_exporter": "python",
   "pygments_lexer": "ipython3",
   "version": "3.8.8"
  }
 },
 "nbformat": 4,
 "nbformat_minor": 5
}
