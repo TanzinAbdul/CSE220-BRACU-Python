{
 "cells": [
  {
   "cell_type": "markdown",
   "id": "8bf19d02",
   "metadata": {},
   "source": [
    "### Create a method which can convert an array to a linked list and sort the linked list. (you cannot sort before converting)"
   ]
  },
  {
   "cell_type": "code",
   "execution_count": 14,
   "id": "18c5376c",
   "metadata": {},
   "outputs": [
    {
     "name": "stdout",
     "output_type": "stream",
     "text": [
      "3,6,2,5,1,4.\n",
      "\n",
      "1,2,3,4,5,6.\n",
      "\n"
     ]
    }
   ],
   "source": [
    "temp_array = [3, 6, 2, 5, 1, 4]\n",
    "\n",
    "class Node:\n",
    "    \n",
    "    def __init__(self, element, n = None):\n",
    "        self.element = element\n",
    "        self.next = n\n",
    "\n",
    "\n",
    "class Linked_list:   \n",
    "    \n",
    "    def __init__(self, array):\n",
    "        \n",
    "        self.head = None\n",
    "        \n",
    "        for elem in array:\n",
    "            if self.head == None:\n",
    "                self.head = Node(elem)\n",
    "                head = self.head\n",
    "            else:\n",
    "                node = Node(elem)\n",
    "                head.next = node\n",
    "                head = node\n",
    "                \n",
    "\n",
    "                \n",
    "    def sort(self):\n",
    "        \n",
    "        head = self.head\n",
    "        current = None\n",
    "        while head != None:\n",
    "            current = head.next\n",
    "            while current != None:\n",
    "                if head.element > current.element:\n",
    "                    temp = head.element\n",
    "                    head.element = current.element\n",
    "                    current.element = temp\n",
    "                current = current.next \n",
    "            head = head.next\n",
    "            \n",
    "                       \n",
    "    def printList(self):\n",
    "        head = self.head\n",
    "        while head != None:\n",
    "            if head.next == None:\n",
    "                print(str(head.element)+'.')\n",
    "            else:\n",
    "                print(head.element, end= ',')\n",
    "            head = head.next\n",
    "        print('')\n",
    "   \n",
    "temp = Linked_list(temp_array)\n",
    "temp.printList()\n",
    "temp.sort()\n",
    "temp.printList()\n",
    "    "
   ]
  }
 ],
 "metadata": {
  "kernelspec": {
   "display_name": "Python 3",
   "language": "python",
   "name": "python3"
  },
  "language_info": {
   "codemirror_mode": {
    "name": "ipython",
    "version": 3
   },
   "file_extension": ".py",
   "mimetype": "text/x-python",
   "name": "python",
   "nbconvert_exporter": "python",
   "pygments_lexer": "ipython3",
   "version": "3.8.8"
  }
 },
 "nbformat": 4,
 "nbformat_minor": 5
}
