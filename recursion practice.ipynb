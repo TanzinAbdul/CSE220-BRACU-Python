{
 "cells": [
  {
   "cell_type": "code",
   "execution_count": 7,
   "id": "ea842de3",
   "metadata": {},
   "outputs": [
    {
     "name": "stdout",
     "output_type": "stream",
     "text": [
      "None\n",
      "y\n",
      "x\n",
      "c\n",
      "b\n",
      "a\n"
     ]
    }
   ],
   "source": [
    "#1 Given a circular array, its start and size, and head you have to write a recursive program that will create a singly linked list with the elements in reverse. The variable head will store the head of the final linked list which must be returned at the end. Note that the initial value of head is None. You are not allowed to take any global variables. You are allowed to change the value of start.\n",
    " \n",
    "#Eg: if CIR = [ x, y, None, None, a, b, c], start = 4, size = 5, head = None\n",
    "#The final linked list will be look like – y, x, c, b, a head will point to y.\n",
    " \n",
    "#def createList (CIR, start, size, head)\n",
    "\n",
    "cir_array = [ 'x', 'y', None, None, 'a', 'b', 'c']\n",
    "\n",
    "class Node:\n",
    "    \n",
    "    def __init__(self, value, n):\n",
    "        self.value = value\n",
    "        self.next = n\n",
    "        \n",
    "\n",
    "\n",
    "\n",
    "def createList(cir, start, size, head):\n",
    "    \n",
    "    if cir[start] != None:\n",
    "        createList(cir, (start+1)%len(cir), size, head)\n",
    "        print(cir[start])\n",
    "    \n",
    "    \n",
    "createList(cir_array, 4, 5, None)"
   ]
  }
 ],
 "metadata": {
  "kernelspec": {
   "display_name": "Python 3",
   "language": "python",
   "name": "python3"
  },
  "language_info": {
   "codemirror_mode": {
    "name": "ipython",
    "version": 3
   },
   "file_extension": ".py",
   "mimetype": "text/x-python",
   "name": "python",
   "nbconvert_exporter": "python",
   "pygments_lexer": "ipython3",
   "version": "3.8.8"
  }
 },
 "nbformat": 4,
 "nbformat_minor": 5
}
