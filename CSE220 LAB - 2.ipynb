{
 "cells": [
  {
   "cell_type": "code",
   "execution_count": 8,
   "id": "9b37a4df",
   "metadata": {},
   "outputs": [
    {
     "name": "stdout",
     "output_type": "stream",
     "text": [
      "140363042767168\n",
      "[1, 2]\n",
      "140363042767168\n"
     ]
    }
   ],
   "source": [
    "def myFunc(x):\n",
    "    x = 2\n",
    "    return x\n",
    "\n",
    "x = [1, 2]\n",
    "print(id(x))\n",
    "myFunc(x)\n",
    "print(x)\n",
    "print(id(x))"
   ]
  },
  {
   "cell_type": "code",
   "execution_count": 7,
   "id": "04c5db43",
   "metadata": {},
   "outputs": [
    {
     "name": "stdout",
     "output_type": "stream",
     "text": [
      "140362218547264\n",
      "140362218547264\n"
     ]
    }
   ],
   "source": [
    "list1 = [1, 2]\n",
    "print(id(list1))\n",
    "list1.append(3)\n",
    "print(id(list1))"
   ]
  }
 ],
 "metadata": {
  "kernelspec": {
   "display_name": "Python 3",
   "language": "python",
   "name": "python3"
  },
  "language_info": {
   "codemirror_mode": {
    "name": "ipython",
    "version": 3
   },
   "file_extension": ".py",
   "mimetype": "text/x-python",
   "name": "python",
   "nbconvert_exporter": "python",
   "pygments_lexer": "ipython3",
   "version": "3.8.8"
  }
 },
 "nbformat": 4,
 "nbformat_minor": 5
}
